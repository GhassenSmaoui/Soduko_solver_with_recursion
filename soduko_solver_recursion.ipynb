{
  "nbformat": 4,
  "nbformat_minor": 0,
  "metadata": {
    "kernelspec": {
      "name": "python3",
      "display_name": "Python 3"
    },
    "language_info": {
      "codemirror_mode": {
        "name": "ipython",
        "version": 3
      },
      "file_extension": ".py",
      "mimetype": "text/x-python",
      "name": "python",
      "nbconvert_exporter": "python",
      "pygments_lexer": "ipython3",
      "version": "3.7.3"
    },
    "colab": {
      "name": "soduko_solver_recursion.ipynb",
      "provenance": [],
      "include_colab_link": true
    },
    "accelerator": "GPU"
  },
  "cells": [
    {
      "cell_type": "markdown",
      "metadata": {
        "id": "view-in-github",
        "colab_type": "text"
      },
      "source": [
        "<a href=\"https://colab.research.google.com/github/GhassenSmaoui/Soduko_solver_with_recursion/blob/master/soduko_solver_recursion.ipynb\" target=\"_parent\"><img src=\"https://colab.research.google.com/assets/colab-badge.svg\" alt=\"Open In Colab\"/></a>"
      ]
    },
    {
      "cell_type": "code",
      "metadata": {
        "id": "7XbZuRxBvsra",
        "colab_type": "code",
        "colab": {}
      },
      "source": [
        "import numpy as np\n",
        "board = np.zeros((9,9), dtype = int)\n"
      ],
      "execution_count": 0,
      "outputs": []
    },
    {
      "cell_type": "code",
      "metadata": {
        "id": "lIq7TAsdvsrx",
        "colab_type": "code",
        "colab": {}
      },
      "source": [
        "board = np.array( [[5, 3, 0, 0, 7, 0, 0, 0, 0],\n",
        "       [6, 0, 0, 1, 9, 5, 0, 0, 0],\n",
        "       [0, 9, 8, 0, 0, 0, 0, 6, 0],\n",
        "       [8, 0, 0, 0, 6, 0, 0, 0, 3],\n",
        "       [4, 0, 0, 8, 0, 3, 0, 0, 1],\n",
        "       [7, 0, 0, 0, 2, 0, 0, 0, 6],\n",
        "       [0, 6, 0, 0, 0, 0, 2, 8, 0],\n",
        "       [0, 0, 0, 4, 1, 9, 0, 0, 5],\n",
        "       [0, 0, 0, 0, 8, 0, 0, 7, 9]])"
      ],
      "execution_count": 0,
      "outputs": []
    },
    {
      "cell_type": "code",
      "metadata": {
        "id": "XnF8DL--vssA",
        "colab_type": "code",
        "colab": {}
      },
      "source": [
        "def print_board(board):\n",
        "    \n",
        "    for j in range(board.shape[0]):\n",
        "        if j%3 == 0:\n",
        "            print (\"-----------------------\")\n",
        "        for i in range(board.shape[1]):\n",
        "            if i%3 == 0:\n",
        "                print (\"|\", end = \" \")\n",
        "            print(board[j,i], end = \" \")\n",
        "        print(\"\")\n"
      ],
      "execution_count": 0,
      "outputs": []
    },
    {
      "cell_type": "code",
      "metadata": {
        "id": "YyYbqTU3vssK",
        "colab_type": "code",
        "colab": {
          "base_uri": "https://localhost:8080/",
          "height": 237
        },
        "outputId": "571c8b22-4c8a-4d98-afac-3d05386d3291"
      },
      "source": [
        "print_board(board)"
      ],
      "execution_count": 4,
      "outputs": [
        {
          "output_type": "stream",
          "text": [
            "-----------------------\n",
            "| 5 3 0 | 0 7 0 | 0 0 0 \n",
            "| 6 0 0 | 1 9 5 | 0 0 0 \n",
            "| 0 9 8 | 0 0 0 | 0 6 0 \n",
            "-----------------------\n",
            "| 8 0 0 | 0 6 0 | 0 0 3 \n",
            "| 4 0 0 | 8 0 3 | 0 0 1 \n",
            "| 7 0 0 | 0 2 0 | 0 0 6 \n",
            "-----------------------\n",
            "| 0 6 0 | 0 0 0 | 2 8 0 \n",
            "| 0 0 0 | 4 1 9 | 0 0 5 \n",
            "| 0 0 0 | 0 8 0 | 0 7 9 \n"
          ],
          "name": "stdout"
        }
      ]
    },
    {
      "cell_type": "code",
      "metadata": {
        "id": "m2bjtw5RvssW",
        "colab_type": "code",
        "colab": {}
      },
      "source": [
        "def check_valid_value(board, value, position):\n",
        "    i = position[0]\n",
        "    j = position[1]\n",
        "    a = value in board[i,:]\n",
        "    b = value in board[:,j]\n",
        "    c = value in board[i//3*3 : i//3*3 +3, j//3*3 : j//3*3 +3 ]\n",
        "    return not (a or b or c)\n",
        "    "
      ],
      "execution_count": 0,
      "outputs": []
    },
    {
      "cell_type": "code",
      "metadata": {
        "id": "u4R7sNd-vssi",
        "colab_type": "code",
        "colab": {}
      },
      "source": [
        "def solve():\n",
        "    \n",
        "    global board, grid\n",
        "    for row in range(board.shape[0]):\n",
        "        for col in range(board.shape[1]):\n",
        "            if board[row,col]==0:\n",
        "                \n",
        "                for i in range(1,10):\n",
        "                    if check_valid_value(board, i,(row,col)):\n",
        "                        board[row,col]=i\n",
        "                        \n",
        "                        solve()\n",
        "                        board[row,col] = 0\n",
        "                return \n",
        "     \n",
        "    print_board(board)           \n",
        "    "
      ],
      "execution_count": 0,
      "outputs": []
    },
    {
      "cell_type": "code",
      "metadata": {
        "id": "6e5EfGm-vssr",
        "colab_type": "code",
        "colab": {
          "base_uri": "https://localhost:8080/",
          "height": 237
        },
        "outputId": "9b3f5cf2-e5aa-44e8-ae21-c06f5d0f3a2e"
      },
      "source": [
        "\n",
        "solve()"
      ],
      "execution_count": 7,
      "outputs": [
        {
          "output_type": "stream",
          "text": [
            "-----------------------\n",
            "| 5 3 4 | 6 7 8 | 9 1 2 \n",
            "| 6 7 2 | 1 9 5 | 3 4 8 \n",
            "| 1 9 8 | 3 4 2 | 5 6 7 \n",
            "-----------------------\n",
            "| 8 5 9 | 7 6 1 | 4 2 3 \n",
            "| 4 2 6 | 8 5 3 | 7 9 1 \n",
            "| 7 1 3 | 9 2 4 | 8 5 6 \n",
            "-----------------------\n",
            "| 9 6 1 | 5 3 7 | 2 8 4 \n",
            "| 2 8 7 | 4 1 9 | 6 3 5 \n",
            "| 3 4 5 | 2 8 6 | 1 7 9 \n"
          ],
          "name": "stdout"
        }
      ]
    }
  ]
}